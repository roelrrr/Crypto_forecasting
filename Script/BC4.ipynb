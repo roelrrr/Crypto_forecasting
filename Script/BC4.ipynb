{
 "cells": [
  {
   "cell_type": "markdown",
   "id": "fdd5c578",
   "metadata": {},
   "source": [
    "# Cryptocurrency Value Prediction\n",
    "\n",
    "### Background\n",
    "\n",
    "Cryptocurrencies are essentially digital currencies that allow individuals to transact online without the use of traditional financial institutions.\n",
    "\n",
    "Investments4Some is a long-standing Portuguese, privately-held hedge funds management firm. They use traditional statistical methods and financial indicators to measure the quality of their portfolios. A few years ago, the company begun to explore the usage of Machine Learning models for market price forecasting, but given the lack of maturity of the company in Machine Learning, their newly created department is failing to successfully develop these models and bring them into production.\n",
    "\n",
    "### Assess Situation\n",
    "\n",
    "All cryptocurrencies found in the dataset are valued in terms of USD. We track a total of 10 cryptocurrencies, namely: Cardano, Cosmos, Avalanche, Axie Infinity, Bitcoin, Ethereum, Chainlink, Terra, Polygon & Solana.\n",
    "Each of these currencies have 6 features: \n",
    "\n",
    "- Low: Lowest price during a day\n",
    "- High: Highest price during a day\n",
    "- Open: Price at the start of the day\n",
    "- Close: Price at the end of the day\n",
    "- Adj. Close: Closing price after adjustments for all applicable splits and dividend distributions. Data is adjusted using appropriate split and dividend multipliers, adhering to Center for Research in Security Prices (CRSP) standards.\n",
    "- Volume: Amount of an asset or security that changes hands over the course of a day\n",
    "\n",
    "### Goals of the model\n",
    "1. Build a predictive model to predict as accurately as possible future stock price. (You should predict the highest price of the day)\n",
    "2. Collect external sources of data that might help your model's performance\n",
    "\n",
    " \n"
   ]
  },
  {
   "cell_type": "markdown",
   "id": "c1be24d2",
   "metadata": {},
   "source": [
    "# Import libraries"
   ]
  },
  {
   "cell_type": "code",
   "execution_count": 84,
   "id": "3d4ee6fc",
   "metadata": {},
   "outputs": [],
   "source": [
    "import pandas as pd\n",
    "import numpy as np\n",
    "import seaborn as sns\n",
    "import matplotlib.pyplot as plt\n",
    "import matplotlib.dates as mdates\n",
    "import mplfinance as mpf\n",
    "\n",
    "from sklearn.linear_model import LogisticRegression\n",
    "from sklearn.metrics import f1_score, fbeta_score, precision_score, recall_score, make_scorer, confusion_matrix\n",
    "from sklearn.model_selection import train_test_split, cross_val_score\n"
   ]
  },
  {
   "cell_type": "code",
   "execution_count": 2,
   "id": "bc0a1c29",
   "metadata": {},
   "outputs": [],
   "source": [
    "df_o=pd.read_csv('data/open.csv')\n",
    "df_c=pd.read_csv('data/close.csv')\n",
    "df_adj=pd.read_csv('data/adj_close.csv')\n",
    "df_h=pd.read_csv('data/high.csv')\n",
    "df_l=pd.read_csv('data/low.csv')\n",
    "df_v=pd.read_csv('data/volume.csv')"
   ]
  },
  {
   "cell_type": "code",
   "execution_count": 3,
   "id": "90bb9656",
   "metadata": {},
   "outputs": [],
   "source": [
    "df_adj['Date']=pd.to_datetime(df_adj['Date'])\n",
    "df_v['Date']=pd.to_datetime(df_v['Date'])\n",
    "df_o['Date']=pd.to_datetime(df_o['Date'])\n",
    "df_c['Date']=pd.to_datetime(df_c['Date'])\n",
    "df_h['Date']=pd.to_datetime(df_h['Date'])\n",
    "df_l['Date']=pd.to_datetime(df_l['Date'])"
   ]
  },
  {
   "cell_type": "code",
   "execution_count": 4,
   "id": "9770f7d5",
   "metadata": {},
   "outputs": [],
   "source": [
    "df_adj.set_index(['Date'], inplace=True)\n",
    "df_v.set_index(['Date'], inplace=True)\n",
    "df_h.set_index(['Date'], inplace=True)\n",
    "df_l.set_index(['Date'], inplace=True)\n",
    "df_c.set_index(['Date'], inplace=True)\n",
    "df_o.set_index(['Date'], inplace=True)"
   ]
  },
  {
   "cell_type": "code",
   "execution_count": 8,
   "id": "fe197dec",
   "metadata": {},
   "outputs": [],
   "source": [
    "df_adj=df_adj.melt(ignore_index=False).rename(columns={'variable':'crypto','value':'adj_close'}).reset_index()\n",
    "df_v=df_v.melt(ignore_index=False).rename(columns={'variable':'crypto','value':'volume'}).reset_index()\n",
    "df_o=df_o.melt(ignore_index=False).rename(columns={'variable':'crypto','value':'open'}).reset_index()\n",
    "df_c=df_c.melt(ignore_index=False).rename(columns={'variable':'crypto','value':'close'}).reset_index()\n",
    "df_h=df_h.melt(ignore_index=False).rename(columns={'variable':'crypto','value':'high'}).reset_index()\n",
    "df_l=df_l.melt(ignore_index=False).rename(columns={'variable':'crypto','value':'low'}).reset_index()"
   ]
  },
  {
   "cell_type": "code",
   "execution_count": 9,
   "id": "f7e4f51d",
   "metadata": {},
   "outputs": [],
   "source": [
    "df=df_h.merge(df_l).merge(df_c).merge(df_o).merge(df_v).merge(df_adj)"
   ]
  },
  {
   "cell_type": "code",
   "execution_count": 10,
   "id": "a1f5ed40",
   "metadata": {},
   "outputs": [
    {
     "data": {
      "text/plain": [
       "Date         datetime64[ns]\n",
       "crypto               object\n",
       "high                float64\n",
       "low                 float64\n",
       "close               float64\n",
       "open                float64\n",
       "volume              float64\n",
       "adj_close           float64\n",
       "dtype: object"
      ]
     },
     "execution_count": 10,
     "metadata": {},
     "output_type": "execute_result"
    }
   ],
   "source": [
    "df.dtypes"
   ]
  },
  {
   "cell_type": "code",
   "execution_count": 11,
   "id": "d5fd5564-7c35-44d1-8b5d-4a1fac8712f7",
   "metadata": {},
   "outputs": [
    {
     "data": {
      "text/html": [
       "<div>\n",
       "<style scoped>\n",
       "    .dataframe tbody tr th:only-of-type {\n",
       "        vertical-align: middle;\n",
       "    }\n",
       "\n",
       "    .dataframe tbody tr th {\n",
       "        vertical-align: top;\n",
       "    }\n",
       "\n",
       "    .dataframe thead th {\n",
       "        text-align: right;\n",
       "    }\n",
       "</style>\n",
       "<table border=\"1\" class=\"dataframe\">\n",
       "  <thead>\n",
       "    <tr style=\"text-align: right;\">\n",
       "      <th></th>\n",
       "      <th>Date</th>\n",
       "      <th>crypto</th>\n",
       "      <th>high</th>\n",
       "      <th>low</th>\n",
       "      <th>close</th>\n",
       "      <th>open</th>\n",
       "      <th>volume</th>\n",
       "      <th>adj_close</th>\n",
       "    </tr>\n",
       "  </thead>\n",
       "  <tbody>\n",
       "    <tr>\n",
       "      <th>0</th>\n",
       "      <td>2017-04-26</td>\n",
       "      <td>ADA-USD</td>\n",
       "      <td>NaN</td>\n",
       "      <td>NaN</td>\n",
       "      <td>NaN</td>\n",
       "      <td>NaN</td>\n",
       "      <td>NaN</td>\n",
       "      <td>NaN</td>\n",
       "    </tr>\n",
       "    <tr>\n",
       "      <th>1</th>\n",
       "      <td>2017-04-27</td>\n",
       "      <td>ADA-USD</td>\n",
       "      <td>NaN</td>\n",
       "      <td>NaN</td>\n",
       "      <td>NaN</td>\n",
       "      <td>NaN</td>\n",
       "      <td>NaN</td>\n",
       "      <td>NaN</td>\n",
       "    </tr>\n",
       "    <tr>\n",
       "      <th>2</th>\n",
       "      <td>2017-04-28</td>\n",
       "      <td>ADA-USD</td>\n",
       "      <td>NaN</td>\n",
       "      <td>NaN</td>\n",
       "      <td>NaN</td>\n",
       "      <td>NaN</td>\n",
       "      <td>NaN</td>\n",
       "      <td>NaN</td>\n",
       "    </tr>\n",
       "    <tr>\n",
       "      <th>3</th>\n",
       "      <td>2017-04-29</td>\n",
       "      <td>ADA-USD</td>\n",
       "      <td>NaN</td>\n",
       "      <td>NaN</td>\n",
       "      <td>NaN</td>\n",
       "      <td>NaN</td>\n",
       "      <td>NaN</td>\n",
       "      <td>NaN</td>\n",
       "    </tr>\n",
       "    <tr>\n",
       "      <th>4</th>\n",
       "      <td>2017-04-30</td>\n",
       "      <td>ADA-USD</td>\n",
       "      <td>NaN</td>\n",
       "      <td>NaN</td>\n",
       "      <td>NaN</td>\n",
       "      <td>NaN</td>\n",
       "      <td>NaN</td>\n",
       "      <td>NaN</td>\n",
       "    </tr>\n",
       "    <tr>\n",
       "      <th>...</th>\n",
       "      <td>...</td>\n",
       "      <td>...</td>\n",
       "      <td>...</td>\n",
       "      <td>...</td>\n",
       "      <td>...</td>\n",
       "      <td>...</td>\n",
       "      <td>...</td>\n",
       "      <td>...</td>\n",
       "    </tr>\n",
       "    <tr>\n",
       "      <th>18255</th>\n",
       "      <td>2022-04-21</td>\n",
       "      <td>SOL-USD</td>\n",
       "      <td>109.765327</td>\n",
       "      <td>100.767151</td>\n",
       "      <td>101.776138</td>\n",
       "      <td>105.497673</td>\n",
       "      <td>1.838572e+09</td>\n",
       "      <td>101.776138</td>\n",
       "    </tr>\n",
       "    <tr>\n",
       "      <th>18256</th>\n",
       "      <td>2022-04-22</td>\n",
       "      <td>SOL-USD</td>\n",
       "      <td>103.498146</td>\n",
       "      <td>99.579430</td>\n",
       "      <td>100.612053</td>\n",
       "      <td>101.757423</td>\n",
       "      <td>1.274794e+09</td>\n",
       "      <td>100.612053</td>\n",
       "    </tr>\n",
       "    <tr>\n",
       "      <th>18257</th>\n",
       "      <td>2022-04-23</td>\n",
       "      <td>SOL-USD</td>\n",
       "      <td>102.771233</td>\n",
       "      <td>98.781570</td>\n",
       "      <td>100.744438</td>\n",
       "      <td>100.619781</td>\n",
       "      <td>8.232525e+08</td>\n",
       "      <td>100.744438</td>\n",
       "    </tr>\n",
       "    <tr>\n",
       "      <th>18258</th>\n",
       "      <td>2022-04-24</td>\n",
       "      <td>SOL-USD</td>\n",
       "      <td>102.216682</td>\n",
       "      <td>99.008514</td>\n",
       "      <td>99.235794</td>\n",
       "      <td>100.727188</td>\n",
       "      <td>8.182660e+08</td>\n",
       "      <td>99.235794</td>\n",
       "    </tr>\n",
       "    <tr>\n",
       "      <th>18259</th>\n",
       "      <td>2022-04-25</td>\n",
       "      <td>SOL-USD</td>\n",
       "      <td>101.440590</td>\n",
       "      <td>94.755753</td>\n",
       "      <td>101.247635</td>\n",
       "      <td>99.241409</td>\n",
       "      <td>1.538487e+09</td>\n",
       "      <td>101.247635</td>\n",
       "    </tr>\n",
       "  </tbody>\n",
       "</table>\n",
       "<p>18260 rows × 8 columns</p>\n",
       "</div>"
      ],
      "text/plain": [
       "            Date   crypto        high         low       close        open  \\\n",
       "0     2017-04-26  ADA-USD         NaN         NaN         NaN         NaN   \n",
       "1     2017-04-27  ADA-USD         NaN         NaN         NaN         NaN   \n",
       "2     2017-04-28  ADA-USD         NaN         NaN         NaN         NaN   \n",
       "3     2017-04-29  ADA-USD         NaN         NaN         NaN         NaN   \n",
       "4     2017-04-30  ADA-USD         NaN         NaN         NaN         NaN   \n",
       "...          ...      ...         ...         ...         ...         ...   \n",
       "18255 2022-04-21  SOL-USD  109.765327  100.767151  101.776138  105.497673   \n",
       "18256 2022-04-22  SOL-USD  103.498146   99.579430  100.612053  101.757423   \n",
       "18257 2022-04-23  SOL-USD  102.771233   98.781570  100.744438  100.619781   \n",
       "18258 2022-04-24  SOL-USD  102.216682   99.008514   99.235794  100.727188   \n",
       "18259 2022-04-25  SOL-USD  101.440590   94.755753  101.247635   99.241409   \n",
       "\n",
       "             volume   adj_close  \n",
       "0               NaN         NaN  \n",
       "1               NaN         NaN  \n",
       "2               NaN         NaN  \n",
       "3               NaN         NaN  \n",
       "4               NaN         NaN  \n",
       "...             ...         ...  \n",
       "18255  1.838572e+09  101.776138  \n",
       "18256  1.274794e+09  100.612053  \n",
       "18257  8.232525e+08  100.744438  \n",
       "18258  8.182660e+08   99.235794  \n",
       "18259  1.538487e+09  101.247635  \n",
       "\n",
       "[18260 rows x 8 columns]"
      ]
     },
     "execution_count": 11,
     "metadata": {},
     "output_type": "execute_result"
    }
   ],
   "source": [
    "df"
   ]
  },
  {
   "cell_type": "code",
   "execution_count": 12,
   "id": "e0200ec4",
   "metadata": {},
   "outputs": [],
   "source": [
    "df.sort_values(by='Date', ascending = True, inplace=True)\n",
    "df.reset_index(inplace=True, drop=True)"
   ]
  },
  {
   "cell_type": "code",
   "execution_count": 24,
   "id": "e0537f01",
   "metadata": {},
   "outputs": [
    {
     "data": {
      "text/plain": [
       "10"
      ]
     },
     "execution_count": 24,
     "metadata": {},
     "output_type": "execute_result"
    }
   ],
   "source": [
    "df['crypto'].nunique()\n",
    "#10 different cryptocurrencies"
   ]
  },
  {
   "cell_type": "code",
   "execution_count": 14,
   "id": "94b454a3",
   "metadata": {},
   "outputs": [],
   "source": [
    "df['crypto']=df.crypto.str.replace('-USD','')\n",
    "#if we want to drop the -USD and just show the symbol"
   ]
  },
  {
   "cell_type": "code",
   "execution_count": 15,
   "id": "54215bf3",
   "metadata": {},
   "outputs": [
    {
     "data": {
      "text/plain": [
       "(18260, 8)"
      ]
     },
     "execution_count": 15,
     "metadata": {},
     "output_type": "execute_result"
    }
   ],
   "source": [
    "df.shape"
   ]
  },
  {
   "cell_type": "code",
   "execution_count": 12,
   "id": "8d1b30bd",
   "metadata": {},
   "outputs": [],
   "source": [
    "#df.dropna(inplace=True)\n",
    "#we're dropping 6,442 rows here but it's for crypto coins that didn't exist yet"
   ]
  },
  {
   "cell_type": "code",
   "execution_count": 16,
   "id": "8612fb07",
   "metadata": {},
   "outputs": [],
   "source": [
    "df['year']=df['Date'].dt.year"
   ]
  },
  {
   "cell_type": "code",
   "execution_count": 17,
   "id": "72a6769a",
   "metadata": {},
   "outputs": [],
   "source": [
    "df.set_index(['Date'], inplace=True)"
   ]
  },
  {
   "cell_type": "code",
   "execution_count": 18,
   "id": "2af53275",
   "metadata": {},
   "outputs": [],
   "source": [
    "#creating a df for only BTC\n",
    "df_btc=df.loc[(df['crypto']=='BTC')]"
   ]
  },
  {
   "cell_type": "code",
   "execution_count": 19,
   "id": "83fbd2c1",
   "metadata": {
    "scrolled": true
   },
   "outputs": [
    {
     "data": {
      "text/html": [
       "<div>\n",
       "<style scoped>\n",
       "    .dataframe tbody tr th:only-of-type {\n",
       "        vertical-align: middle;\n",
       "    }\n",
       "\n",
       "    .dataframe tbody tr th {\n",
       "        vertical-align: top;\n",
       "    }\n",
       "\n",
       "    .dataframe thead th {\n",
       "        text-align: right;\n",
       "    }\n",
       "</style>\n",
       "<table border=\"1\" class=\"dataframe\">\n",
       "  <thead>\n",
       "    <tr style=\"text-align: right;\">\n",
       "      <th></th>\n",
       "      <th>crypto</th>\n",
       "      <th>high</th>\n",
       "      <th>low</th>\n",
       "      <th>close</th>\n",
       "      <th>open</th>\n",
       "      <th>volume</th>\n",
       "      <th>adj_close</th>\n",
       "      <th>year</th>\n",
       "    </tr>\n",
       "    <tr>\n",
       "      <th>Date</th>\n",
       "      <th></th>\n",
       "      <th></th>\n",
       "      <th></th>\n",
       "      <th></th>\n",
       "      <th></th>\n",
       "      <th></th>\n",
       "      <th></th>\n",
       "      <th></th>\n",
       "    </tr>\n",
       "  </thead>\n",
       "  <tbody>\n",
       "    <tr>\n",
       "      <th>2021-11-10</th>\n",
       "      <td>BTC</td>\n",
       "      <td>68789.625000</td>\n",
       "      <td>63208.113281</td>\n",
       "      <td>64995.230469</td>\n",
       "      <td>66953.335938</td>\n",
       "      <td>4.873083e+10</td>\n",
       "      <td>64995.230469</td>\n",
       "      <td>2021</td>\n",
       "    </tr>\n",
       "    <tr>\n",
       "      <th>2021-11-09</th>\n",
       "      <td>BTC</td>\n",
       "      <td>68530.335938</td>\n",
       "      <td>66382.062500</td>\n",
       "      <td>66971.828125</td>\n",
       "      <td>67549.734375</td>\n",
       "      <td>4.235799e+10</td>\n",
       "      <td>66971.828125</td>\n",
       "      <td>2021</td>\n",
       "    </tr>\n",
       "    <tr>\n",
       "      <th>2021-11-08</th>\n",
       "      <td>BTC</td>\n",
       "      <td>67673.742188</td>\n",
       "      <td>63344.066406</td>\n",
       "      <td>67566.828125</td>\n",
       "      <td>63344.066406</td>\n",
       "      <td>4.112561e+10</td>\n",
       "      <td>67566.828125</td>\n",
       "      <td>2021</td>\n",
       "    </tr>\n",
       "    <tr>\n",
       "      <th>2021-10-20</th>\n",
       "      <td>BTC</td>\n",
       "      <td>66930.390625</td>\n",
       "      <td>63610.675781</td>\n",
       "      <td>65992.835938</td>\n",
       "      <td>64284.585938</td>\n",
       "      <td>4.078896e+10</td>\n",
       "      <td>65992.835938</td>\n",
       "      <td>2021</td>\n",
       "    </tr>\n",
       "    <tr>\n",
       "      <th>2021-10-21</th>\n",
       "      <td>BTC</td>\n",
       "      <td>66600.546875</td>\n",
       "      <td>62117.410156</td>\n",
       "      <td>62210.171875</td>\n",
       "      <td>66002.234375</td>\n",
       "      <td>4.590812e+10</td>\n",
       "      <td>62210.171875</td>\n",
       "      <td>2021</td>\n",
       "    </tr>\n",
       "    <tr>\n",
       "      <th>...</th>\n",
       "      <td>...</td>\n",
       "      <td>...</td>\n",
       "      <td>...</td>\n",
       "      <td>...</td>\n",
       "      <td>...</td>\n",
       "      <td>...</td>\n",
       "      <td>...</td>\n",
       "      <td>...</td>\n",
       "    </tr>\n",
       "    <tr>\n",
       "      <th>2017-04-30</th>\n",
       "      <td>BTC</td>\n",
       "      <td>1347.910034</td>\n",
       "      <td>1314.920044</td>\n",
       "      <td>1347.890015</td>\n",
       "      <td>1321.869995</td>\n",
       "      <td>4.131150e+08</td>\n",
       "      <td>1347.890015</td>\n",
       "      <td>2017</td>\n",
       "    </tr>\n",
       "    <tr>\n",
       "      <th>2017-04-28</th>\n",
       "      <td>BTC</td>\n",
       "      <td>1331.280029</td>\n",
       "      <td>1292.369995</td>\n",
       "      <td>1316.479980</td>\n",
       "      <td>1317.739990</td>\n",
       "      <td>5.274890e+08</td>\n",
       "      <td>1316.479980</td>\n",
       "      <td>2017</td>\n",
       "    </tr>\n",
       "    <tr>\n",
       "      <th>2017-04-29</th>\n",
       "      <td>BTC</td>\n",
       "      <td>1327.199951</td>\n",
       "      <td>1315.209961</td>\n",
       "      <td>1321.790039</td>\n",
       "      <td>1317.839966</td>\n",
       "      <td>4.227060e+08</td>\n",
       "      <td>1321.790039</td>\n",
       "      <td>2017</td>\n",
       "    </tr>\n",
       "    <tr>\n",
       "      <th>2017-04-27</th>\n",
       "      <td>BTC</td>\n",
       "      <td>1319.699951</td>\n",
       "      <td>1281.300049</td>\n",
       "      <td>1317.729980</td>\n",
       "      <td>1281.880005</td>\n",
       "      <td>4.491970e+08</td>\n",
       "      <td>1317.729980</td>\n",
       "      <td>2017</td>\n",
       "    </tr>\n",
       "    <tr>\n",
       "      <th>2017-04-26</th>\n",
       "      <td>BTC</td>\n",
       "      <td>1294.829956</td>\n",
       "      <td>1265.930054</td>\n",
       "      <td>1281.079956</td>\n",
       "      <td>1265.989990</td>\n",
       "      <td>3.296310e+08</td>\n",
       "      <td>1281.079956</td>\n",
       "      <td>2017</td>\n",
       "    </tr>\n",
       "  </tbody>\n",
       "</table>\n",
       "<p>1826 rows × 8 columns</p>\n",
       "</div>"
      ],
      "text/plain": [
       "           crypto          high           low         close          open  \\\n",
       "Date                                                                        \n",
       "2021-11-10    BTC  68789.625000  63208.113281  64995.230469  66953.335938   \n",
       "2021-11-09    BTC  68530.335938  66382.062500  66971.828125  67549.734375   \n",
       "2021-11-08    BTC  67673.742188  63344.066406  67566.828125  63344.066406   \n",
       "2021-10-20    BTC  66930.390625  63610.675781  65992.835938  64284.585938   \n",
       "2021-10-21    BTC  66600.546875  62117.410156  62210.171875  66002.234375   \n",
       "...           ...           ...           ...           ...           ...   \n",
       "2017-04-30    BTC   1347.910034   1314.920044   1347.890015   1321.869995   \n",
       "2017-04-28    BTC   1331.280029   1292.369995   1316.479980   1317.739990   \n",
       "2017-04-29    BTC   1327.199951   1315.209961   1321.790039   1317.839966   \n",
       "2017-04-27    BTC   1319.699951   1281.300049   1317.729980   1281.880005   \n",
       "2017-04-26    BTC   1294.829956   1265.930054   1281.079956   1265.989990   \n",
       "\n",
       "                  volume     adj_close  year  \n",
       "Date                                          \n",
       "2021-11-10  4.873083e+10  64995.230469  2021  \n",
       "2021-11-09  4.235799e+10  66971.828125  2021  \n",
       "2021-11-08  4.112561e+10  67566.828125  2021  \n",
       "2021-10-20  4.078896e+10  65992.835938  2021  \n",
       "2021-10-21  4.590812e+10  62210.171875  2021  \n",
       "...                  ...           ...   ...  \n",
       "2017-04-30  4.131150e+08   1347.890015  2017  \n",
       "2017-04-28  5.274890e+08   1316.479980  2017  \n",
       "2017-04-29  4.227060e+08   1321.790039  2017  \n",
       "2017-04-27  4.491970e+08   1317.729980  2017  \n",
       "2017-04-26  3.296310e+08   1281.079956  2017  \n",
       "\n",
       "[1826 rows x 8 columns]"
      ]
     },
     "execution_count": 19,
     "metadata": {},
     "output_type": "execute_result"
    }
   ],
   "source": [
    "df_btc.sort_values(by='high', ascending=False)\n",
    "#to see when I should've sold"
   ]
  },
  {
   "cell_type": "code",
   "execution_count": 39,
   "id": "ade0759a-4b7c-4dd2-8e95-2aa9695c5465",
   "metadata": {},
   "outputs": [],
   "source": [
    "sns.barplot(x=df.crypto.unique(), y=)"
   ]
  },
  {
   "cell_type": "code",
   "execution_count": 20,
   "id": "69e1c5c0",
   "metadata": {},
   "outputs": [],
   "source": [
    "df_nobtc=df.loc[(df['crypto']!='BTC')]\n",
    "#if we wanted to analyze the crypto coins w/o BTC"
   ]
  },
  {
   "cell_type": "code",
   "execution_count": 21,
   "id": "75eff5cd",
   "metadata": {},
   "outputs": [],
   "source": [
    "avg_df = df.groupby(['crypto'], as_index=False).mean()"
   ]
  },
  {
   "cell_type": "code",
   "execution_count": 22,
   "id": "d1447134",
   "metadata": {},
   "outputs": [
    {
     "data": {
      "text/plain": [
       "<AxesSubplot:xlabel='crypto', ylabel='volume'>"
      ]
     },
     "execution_count": 22,
     "metadata": {},
     "output_type": "execute_result"
    },
    {
     "data": {
      "image/png": "[encoded data removed]",
      "text/plain": [
       "<Figure size 432x288 with 1 Axes>"
      ]
     },
     "metadata": {
      "needs_background": "light"
     },
     "output_type": "display_data"
    }
   ],
   "source": [
    "sns.barplot(x='crypto',y='volume',data=avg_df, order=avg_df.sort_values('volume', ascending=False).crypto)"
   ]
  },
  {
   "cell_type": "code",
   "execution_count": 20,
   "id": "90d00dc8",
   "metadata": {},
   "outputs": [
    {
     "data": {
      "text/plain": [
       "<AxesSubplot:xlabel='crypto', ylabel='high'>"
      ]
     },
     "execution_count": 20,
     "metadata": {},
     "output_type": "execute_result"
    },
    {
     "data": {
      "image/png": "[encoded data removed]",
      "text/plain": [
       "<Figure size 432x288 with 1 Axes>"
      ]
     },
     "metadata": {
      "needs_background": "light"
     },
     "output_type": "display_data"
    }
   ],
   "source": [
    "sns.barplot(x='crypto',y='high',data=avg_df, order=avg_df.sort_values('high', ascending=False).crypto)"
   ]
  },
  {
   "cell_type": "code",
   "execution_count": 21,
   "id": "ac45b5ee",
   "metadata": {},
   "outputs": [
    {
     "data": {
      "text/html": [
       "<div>\n",
       "<style scoped>\n",
       "    .dataframe tbody tr th:only-of-type {\n",
       "        vertical-align: middle;\n",
       "    }\n",
       "\n",
       "    .dataframe tbody tr th {\n",
       "        vertical-align: top;\n",
       "    }\n",
       "\n",
       "    .dataframe thead th {\n",
       "        text-align: right;\n",
       "    }\n",
       "</style>\n",
       "<table border=\"1\" class=\"dataframe\">\n",
       "  <thead>\n",
       "    <tr style=\"text-align: right;\">\n",
       "      <th></th>\n",
       "      <th>crypto</th>\n",
       "      <th>high</th>\n",
       "      <th>low</th>\n",
       "      <th>close</th>\n",
       "      <th>open</th>\n",
       "      <th>volume</th>\n",
       "      <th>adj_close</th>\n",
       "      <th>year</th>\n",
       "    </tr>\n",
       "    <tr>\n",
       "      <th>Date</th>\n",
       "      <th></th>\n",
       "      <th></th>\n",
       "      <th></th>\n",
       "      <th></th>\n",
       "      <th></th>\n",
       "      <th></th>\n",
       "      <th></th>\n",
       "      <th></th>\n",
       "    </tr>\n",
       "  </thead>\n",
       "  <tbody>\n",
       "    <tr>\n",
       "      <th>2017-04-26</th>\n",
       "      <td>BTC</td>\n",
       "      <td>1294.829956</td>\n",
       "      <td>1265.930054</td>\n",
       "      <td>1281.079956</td>\n",
       "      <td>1265.989990</td>\n",
       "      <td>3.296310e+08</td>\n",
       "      <td>1281.079956</td>\n",
       "      <td>2017</td>\n",
       "    </tr>\n",
       "    <tr>\n",
       "      <th>2017-04-27</th>\n",
       "      <td>BTC</td>\n",
       "      <td>1319.699951</td>\n",
       "      <td>1281.300049</td>\n",
       "      <td>1317.729980</td>\n",
       "      <td>1281.880005</td>\n",
       "      <td>4.491970e+08</td>\n",
       "      <td>1317.729980</td>\n",
       "      <td>2017</td>\n",
       "    </tr>\n",
       "    <tr>\n",
       "      <th>2017-04-28</th>\n",
       "      <td>BTC</td>\n",
       "      <td>1331.280029</td>\n",
       "      <td>1292.369995</td>\n",
       "      <td>1316.479980</td>\n",
       "      <td>1317.739990</td>\n",
       "      <td>5.274890e+08</td>\n",
       "      <td>1316.479980</td>\n",
       "      <td>2017</td>\n",
       "    </tr>\n",
       "    <tr>\n",
       "      <th>2017-04-29</th>\n",
       "      <td>BTC</td>\n",
       "      <td>1327.199951</td>\n",
       "      <td>1315.209961</td>\n",
       "      <td>1321.790039</td>\n",
       "      <td>1317.839966</td>\n",
       "      <td>4.227060e+08</td>\n",
       "      <td>1321.790039</td>\n",
       "      <td>2017</td>\n",
       "    </tr>\n",
       "    <tr>\n",
       "      <th>2017-04-30</th>\n",
       "      <td>BTC</td>\n",
       "      <td>1347.910034</td>\n",
       "      <td>1314.920044</td>\n",
       "      <td>1347.890015</td>\n",
       "      <td>1321.869995</td>\n",
       "      <td>4.131150e+08</td>\n",
       "      <td>1347.890015</td>\n",
       "      <td>2017</td>\n",
       "    </tr>\n",
       "    <tr>\n",
       "      <th>...</th>\n",
       "      <td>...</td>\n",
       "      <td>...</td>\n",
       "      <td>...</td>\n",
       "      <td>...</td>\n",
       "      <td>...</td>\n",
       "      <td>...</td>\n",
       "      <td>...</td>\n",
       "      <td>...</td>\n",
       "    </tr>\n",
       "    <tr>\n",
       "      <th>2022-04-21</th>\n",
       "      <td>BTC</td>\n",
       "      <td>42893.582031</td>\n",
       "      <td>40063.828125</td>\n",
       "      <td>40527.363281</td>\n",
       "      <td>41371.515625</td>\n",
       "      <td>3.537279e+10</td>\n",
       "      <td>40527.363281</td>\n",
       "      <td>2022</td>\n",
       "    </tr>\n",
       "    <tr>\n",
       "      <th>2022-04-22</th>\n",
       "      <td>BTC</td>\n",
       "      <td>40777.757812</td>\n",
       "      <td>39315.417969</td>\n",
       "      <td>39740.320312</td>\n",
       "      <td>40525.863281</td>\n",
       "      <td>2.801172e+10</td>\n",
       "      <td>39740.320312</td>\n",
       "      <td>2022</td>\n",
       "    </tr>\n",
       "    <tr>\n",
       "      <th>2022-04-23</th>\n",
       "      <td>BTC</td>\n",
       "      <td>39935.859375</td>\n",
       "      <td>39352.203125</td>\n",
       "      <td>39486.730469</td>\n",
       "      <td>39738.722656</td>\n",
       "      <td>1.613802e+10</td>\n",
       "      <td>39486.730469</td>\n",
       "      <td>2022</td>\n",
       "    </tr>\n",
       "    <tr>\n",
       "      <th>2022-04-24</th>\n",
       "      <td>BTC</td>\n",
       "      <td>39845.925781</td>\n",
       "      <td>39233.539062</td>\n",
       "      <td>39469.292969</td>\n",
       "      <td>39478.375000</td>\n",
       "      <td>1.796440e+10</td>\n",
       "      <td>39469.292969</td>\n",
       "      <td>2022</td>\n",
       "    </tr>\n",
       "    <tr>\n",
       "      <th>2022-04-25</th>\n",
       "      <td>BTC</td>\n",
       "      <td>40491.753906</td>\n",
       "      <td>38338.378906</td>\n",
       "      <td>40458.308594</td>\n",
       "      <td>39472.605469</td>\n",
       "      <td>3.544573e+10</td>\n",
       "      <td>40458.308594</td>\n",
       "      <td>2022</td>\n",
       "    </tr>\n",
       "  </tbody>\n",
       "</table>\n",
       "<p>1826 rows × 8 columns</p>\n",
       "</div>"
      ],
      "text/plain": [
       "           crypto          high           low         close          open  \\\n",
       "Date                                                                        \n",
       "2017-04-26    BTC   1294.829956   1265.930054   1281.079956   1265.989990   \n",
       "2017-04-27    BTC   1319.699951   1281.300049   1317.729980   1281.880005   \n",
       "2017-04-28    BTC   1331.280029   1292.369995   1316.479980   1317.739990   \n",
       "2017-04-29    BTC   1327.199951   1315.209961   1321.790039   1317.839966   \n",
       "2017-04-30    BTC   1347.910034   1314.920044   1347.890015   1321.869995   \n",
       "...           ...           ...           ...           ...           ...   \n",
       "2022-04-21    BTC  42893.582031  40063.828125  40527.363281  41371.515625   \n",
       "2022-04-22    BTC  40777.757812  39315.417969  39740.320312  40525.863281   \n",
       "2022-04-23    BTC  39935.859375  39352.203125  39486.730469  39738.722656   \n",
       "2022-04-24    BTC  39845.925781  39233.539062  39469.292969  39478.375000   \n",
       "2022-04-25    BTC  40491.753906  38338.378906  40458.308594  39472.605469   \n",
       "\n",
       "                  volume     adj_close  year  \n",
       "Date                                          \n",
       "2017-04-26  3.296310e+08   1281.079956  2017  \n",
       "2017-04-27  4.491970e+08   1317.729980  2017  \n",
       "2017-04-28  5.274890e+08   1316.479980  2017  \n",
       "2017-04-29  4.227060e+08   1321.790039  2017  \n",
       "2017-04-30  4.131150e+08   1347.890015  2017  \n",
       "...                  ...           ...   ...  \n",
       "2022-04-21  3.537279e+10  40527.363281  2022  \n",
       "2022-04-22  2.801172e+10  39740.320312  2022  \n",
       "2022-04-23  1.613802e+10  39486.730469  2022  \n",
       "2022-04-24  1.796440e+10  39469.292969  2022  \n",
       "2022-04-25  3.544573e+10  40458.308594  2022  \n",
       "\n",
       "[1826 rows x 8 columns]"
      ]
     },
     "execution_count": 21,
     "metadata": {},
     "output_type": "execute_result"
    }
   ],
   "source": [
    "df_btc"
   ]
  },
  {
   "cell_type": "code",
   "execution_count": 22,
   "id": "f00c281d",
   "metadata": {},
   "outputs": [],
   "source": [
    "iday = df_btc.loc['2020-12-31':'2022-4-06',:]"
   ]
  },
  {
   "cell_type": "code",
   "execution_count": 23,
   "id": "6d4c0f4b",
   "metadata": {},
   "outputs": [
    {
     "data": {
      "image/png": "[encoded data removed]",
      "text/plain": [
       "<Figure size 800x575 with 4 Axes>"
      ]
     },
     "metadata": {},
     "output_type": "display_data"
    }
   ],
   "source": [
    "mpf.plot(iday,type='candle',mav=(3,6,9),volume=True)"
   ]
  },
  {
   "cell_type": "markdown",
   "id": "53a1d71f-7686-4594-8d5a-b6f9ea411669",
   "metadata": {},
   "source": [
    "# BTC Prediction \n",
    "\n",
    "#### Goal:\n",
    "Predict trend bullish or bearish and calculate the possible highest value for the next 24 hours.\n"
   ]
  },
  {
   "cell_type": "markdown",
   "id": "ad8e990f-7452-41f5-a255-2078b277c062",
   "metadata": {},
   "source": [
    "### preprocessing\n",
    "Create df with the necessary columns. For now only use existing information. Later try to get knowledge on daily trading metrics."
   ]
  },
  {
   "cell_type": "code",
   "execution_count": 46,
   "id": "24464818-136a-4a21-ac6b-21a7ba03c4f1",
   "metadata": {},
   "outputs": [],
   "source": [
    "df_test = df_btc.copy()"
   ]
  },
  {
   "cell_type": "code",
   "execution_count": 49,
   "id": "b984739b-03ab-4662-88e9-ed953007d2bf",
   "metadata": {},
   "outputs": [
    {
     "data": {
      "text/plain": [
       "1826"
      ]
     },
     "execution_count": 49,
     "metadata": {},
     "output_type": "execute_result"
    }
   ],
   "source": [
    "len(df_test)"
   ]
  },
  {
   "cell_type": "code",
   "execution_count": 62,
   "id": "87b8f747-76cc-47bf-94f9-2859b6a4d831",
   "metadata": {},
   "outputs": [
    {
     "data": {
      "text/plain": [
       "0        1319.699951\n",
       "1        1331.280029\n",
       "2        1327.199951\n",
       "3        1347.910034\n",
       "4        1434.319946\n",
       "            ...     \n",
       "1820    42893.582031\n",
       "1821    40777.757812\n",
       "1822    39935.859375\n",
       "1823    39845.925781\n",
       "1824    40491.753906\n",
       "Name: high, Length: 1825, dtype: float64"
      ]
     },
     "execution_count": 62,
     "metadata": {},
     "output_type": "execute_result"
    }
   ],
   "source": [
    "df_test[\"high\"].iloc[1:].reset_index().high"
   ]
  },
  {
   "cell_type": "code",
   "execution_count": 60,
   "id": "03d6a5e3-749d-4d4e-8413-93709d100a20",
   "metadata": {},
   "outputs": [],
   "source": [
    "# First I wanna create our target data column.\n",
    "# The target feature is the next 24 hour high\n",
    "\n",
    "\n",
    "df_test[\"high_t+1\"] = df_test[\"high\"].iloc[1:].reset_index().high\n",
    "\n"
   ]
  },
  {
   "cell_type": "code",
   "execution_count": 63,
   "id": "30d50751-b5f7-43ac-872c-df830337d820",
   "metadata": {},
   "outputs": [],
   "source": [
    "# needed to reset otherwise the indexes are messing the next code up\n",
    "df_test.reset_index(inplace=True)"
   ]
  },
  {
   "cell_type": "code",
   "execution_count": 65,
   "id": "abbd8747-27b9-4ced-b8dc-b5f76be4ffe7",
   "metadata": {},
   "outputs": [],
   "source": [
    "# First I wanna create our target data column.\n",
    "# The target feature is the next 24 hour high\n",
    "\n",
    "df_test[\"high_t+1\"] = df_test[\"high\"].iloc[1:].reset_index().high"
   ]
  },
  {
   "cell_type": "code",
   "execution_count": 74,
   "id": "280dd79b-8b75-4df2-9f65-5f150072313a",
   "metadata": {},
   "outputs": [],
   "source": [
    "df_test.drop(columns=['crypto','adj_close','year'], inplace = True)\n",
    "\n"
   ]
  },
  {
   "cell_type": "code",
   "execution_count": 76,
   "id": "96ab7357-0372-429b-8043-7fedc15e2b7c",
   "metadata": {},
   "outputs": [],
   "source": [
    "df_test.drop(columns=['Date'], inplace = True)\n"
   ]
  },
  {
   "cell_type": "code",
   "execution_count": 79,
   "id": "6224934e-047d-498a-921e-0fad52210b26",
   "metadata": {},
   "outputs": [],
   "source": [
    "df_test = df_test.iloc[:-1]"
   ]
  },
  {
   "cell_type": "code",
   "execution_count": 80,
   "id": "6684e0ee-87df-4810-b1d5-4fe6392afb43",
   "metadata": {},
   "outputs": [
    {
     "data": {
      "text/html": [
       "<div>\n",
       "<style scoped>\n",
       "    .dataframe tbody tr th:only-of-type {\n",
       "        vertical-align: middle;\n",
       "    }\n",
       "\n",
       "    .dataframe tbody tr th {\n",
       "        vertical-align: top;\n",
       "    }\n",
       "\n",
       "    .dataframe thead th {\n",
       "        text-align: right;\n",
       "    }\n",
       "</style>\n",
       "<table border=\"1\" class=\"dataframe\">\n",
       "  <thead>\n",
       "    <tr style=\"text-align: right;\">\n",
       "      <th></th>\n",
       "      <th>high</th>\n",
       "      <th>low</th>\n",
       "      <th>close</th>\n",
       "      <th>open</th>\n",
       "      <th>volume</th>\n",
       "      <th>high_t+1</th>\n",
       "    </tr>\n",
       "  </thead>\n",
       "  <tbody>\n",
       "    <tr>\n",
       "      <th>0</th>\n",
       "      <td>1294.829956</td>\n",
       "      <td>1265.930054</td>\n",
       "      <td>1281.079956</td>\n",
       "      <td>1265.989990</td>\n",
       "      <td>3.296310e+08</td>\n",
       "      <td>1319.699951</td>\n",
       "    </tr>\n",
       "    <tr>\n",
       "      <th>1</th>\n",
       "      <td>1319.699951</td>\n",
       "      <td>1281.300049</td>\n",
       "      <td>1317.729980</td>\n",
       "      <td>1281.880005</td>\n",
       "      <td>4.491970e+08</td>\n",
       "      <td>1331.280029</td>\n",
       "    </tr>\n",
       "    <tr>\n",
       "      <th>2</th>\n",
       "      <td>1331.280029</td>\n",
       "      <td>1292.369995</td>\n",
       "      <td>1316.479980</td>\n",
       "      <td>1317.739990</td>\n",
       "      <td>5.274890e+08</td>\n",
       "      <td>1327.199951</td>\n",
       "    </tr>\n",
       "    <tr>\n",
       "      <th>3</th>\n",
       "      <td>1327.199951</td>\n",
       "      <td>1315.209961</td>\n",
       "      <td>1321.790039</td>\n",
       "      <td>1317.839966</td>\n",
       "      <td>4.227060e+08</td>\n",
       "      <td>1347.910034</td>\n",
       "    </tr>\n",
       "    <tr>\n",
       "      <th>4</th>\n",
       "      <td>1347.910034</td>\n",
       "      <td>1314.920044</td>\n",
       "      <td>1347.890015</td>\n",
       "      <td>1321.869995</td>\n",
       "      <td>4.131150e+08</td>\n",
       "      <td>1434.319946</td>\n",
       "    </tr>\n",
       "    <tr>\n",
       "      <th>...</th>\n",
       "      <td>...</td>\n",
       "      <td>...</td>\n",
       "      <td>...</td>\n",
       "      <td>...</td>\n",
       "      <td>...</td>\n",
       "      <td>...</td>\n",
       "    </tr>\n",
       "    <tr>\n",
       "      <th>1819</th>\n",
       "      <td>41672.960938</td>\n",
       "      <td>40618.632812</td>\n",
       "      <td>41502.750000</td>\n",
       "      <td>40828.175781</td>\n",
       "      <td>2.530321e+10</td>\n",
       "      <td>42126.300781</td>\n",
       "    </tr>\n",
       "    <tr>\n",
       "      <th>1820</th>\n",
       "      <td>42126.300781</td>\n",
       "      <td>40961.097656</td>\n",
       "      <td>41374.378906</td>\n",
       "      <td>41501.746094</td>\n",
       "      <td>2.781953e+10</td>\n",
       "      <td>42893.582031</td>\n",
       "    </tr>\n",
       "    <tr>\n",
       "      <th>1821</th>\n",
       "      <td>42893.582031</td>\n",
       "      <td>40063.828125</td>\n",
       "      <td>40527.363281</td>\n",
       "      <td>41371.515625</td>\n",
       "      <td>3.537279e+10</td>\n",
       "      <td>40777.757812</td>\n",
       "    </tr>\n",
       "    <tr>\n",
       "      <th>1822</th>\n",
       "      <td>40777.757812</td>\n",
       "      <td>39315.417969</td>\n",
       "      <td>39740.320312</td>\n",
       "      <td>40525.863281</td>\n",
       "      <td>2.801172e+10</td>\n",
       "      <td>39935.859375</td>\n",
       "    </tr>\n",
       "    <tr>\n",
       "      <th>1823</th>\n",
       "      <td>39935.859375</td>\n",
       "      <td>39352.203125</td>\n",
       "      <td>39486.730469</td>\n",
       "      <td>39738.722656</td>\n",
       "      <td>1.613802e+10</td>\n",
       "      <td>39845.925781</td>\n",
       "    </tr>\n",
       "  </tbody>\n",
       "</table>\n",
       "<p>1824 rows × 6 columns</p>\n",
       "</div>"
      ],
      "text/plain": [
       "              high           low         close          open        volume  \\\n",
       "0      1294.829956   1265.930054   1281.079956   1265.989990  3.296310e+08   \n",
       "1      1319.699951   1281.300049   1317.729980   1281.880005  4.491970e+08   \n",
       "2      1331.280029   1292.369995   1316.479980   1317.739990  5.274890e+08   \n",
       "3      1327.199951   1315.209961   1321.790039   1317.839966  4.227060e+08   \n",
       "4      1347.910034   1314.920044   1347.890015   1321.869995  4.131150e+08   \n",
       "...            ...           ...           ...           ...           ...   \n",
       "1819  41672.960938  40618.632812  41502.750000  40828.175781  2.530321e+10   \n",
       "1820  42126.300781  40961.097656  41374.378906  41501.746094  2.781953e+10   \n",
       "1821  42893.582031  40063.828125  40527.363281  41371.515625  3.537279e+10   \n",
       "1822  40777.757812  39315.417969  39740.320312  40525.863281  2.801172e+10   \n",
       "1823  39935.859375  39352.203125  39486.730469  39738.722656  1.613802e+10   \n",
       "\n",
       "          high_t+1  \n",
       "0      1319.699951  \n",
       "1      1331.280029  \n",
       "2      1327.199951  \n",
       "3      1347.910034  \n",
       "4      1434.319946  \n",
       "...            ...  \n",
       "1819  42126.300781  \n",
       "1820  42893.582031  \n",
       "1821  40777.757812  \n",
       "1822  39935.859375  \n",
       "1823  39845.925781  \n",
       "\n",
       "[1824 rows x 6 columns]"
      ]
     },
     "execution_count": 80,
     "metadata": {},
     "output_type": "execute_result"
    }
   ],
   "source": []
  },
  {
   "cell_type": "markdown",
   "id": "8c3cd6af-2fd8-4c6f-9f6c-3de510ade7a7",
   "metadata": {},
   "source": [
    "## Modelling"
   ]
  },
  {
   "cell_type": "code",
   "execution_count": 86,
   "id": "d8f4f28a-f506-413c-b914-47ee39b4a5ad",
   "metadata": {},
   "outputs": [
    {
     "data": {
      "text/plain": [
       "1459.2"
      ]
     },
     "execution_count": 86,
     "metadata": {},
     "output_type": "execute_result"
    }
   ],
   "source": [
    "len(df_test)*0.8"
   ]
  },
  {
   "cell_type": "code",
   "execution_count": 91,
   "id": "a76d0d24-6508-4ec2-b89f-fbb29ba47f6d",
   "metadata": {},
   "outputs": [],
   "source": [
    "df_copy = df_test.iloc[:1458]\n",
    "test_df = df_test.iloc[1458:]"
   ]
  },
  {
   "cell_type": "code",
   "execution_count": 92,
   "id": "5fa62b88-0a9b-4750-a688-09d1d416f5ee",
   "metadata": {},
   "outputs": [
    {
     "data": {
      "text/plain": [
       "0        1319.699951\n",
       "1        1331.280029\n",
       "2        1327.199951\n",
       "3        1347.910034\n",
       "4        1434.319946\n",
       "            ...     \n",
       "1453    57520.054688\n",
       "1454    57062.148438\n",
       "1455    56757.972656\n",
       "1456    55410.230469\n",
       "1457    52120.792969\n",
       "Name: high_t+1, Length: 1458, dtype: float64"
      ]
     },
     "execution_count": 92,
     "metadata": {},
     "output_type": "execute_result"
    }
   ],
   "source": [
    "df_copy[\"high_t+1\"]"
   ]
  },
  {
   "cell_type": "code",
   "execution_count": 103,
   "id": "8c751596-0e3d-4fc5-9509-ecbc26f18b27",
   "metadata": {
    "collapsed": true,
    "jupyter": {
     "outputs_hidden": true
    },
    "tags": []
   },
   "outputs": [
    {
     "ename": "ValueError",
     "evalue": "The least populated class in y has only 1 member, which is too few. The minimum number of groups for any class cannot be less than 2.",
     "output_type": "error",
     "traceback": [
      "\u001b[0;31m---------------------------------------------------------------------------\u001b[0m",
      "\u001b[0;31mValueError\u001b[0m                                Traceback (most recent call last)",
      "\u001b[0;32m/var/folders/sr/xf1mhz5n47l7h5p08_tm57280000gn/T/ipykernel_7259/3139646045.py\u001b[0m in \u001b[0;36m<module>\u001b[0;34m\u001b[0m\n\u001b[1;32m      1\u001b[0m \u001b[0mX\u001b[0m\u001b[0;34m,\u001b[0m\u001b[0my\u001b[0m \u001b[0;34m=\u001b[0m \u001b[0mdf_copy\u001b[0m\u001b[0;34m.\u001b[0m\u001b[0mdrop\u001b[0m\u001b[0;34m(\u001b[0m\u001b[0;34m\"high_t+1\"\u001b[0m\u001b[0;34m,\u001b[0m \u001b[0maxis\u001b[0m \u001b[0;34m=\u001b[0m \u001b[0;36m1\u001b[0m\u001b[0;34m)\u001b[0m\u001b[0;34m,\u001b[0m \u001b[0mdf_copy\u001b[0m\u001b[0;34m[\u001b[0m\u001b[0;34m\"high_t+1\"\u001b[0m\u001b[0;34m]\u001b[0m\u001b[0;34m\u001b[0m\u001b[0;34m\u001b[0m\u001b[0m\n\u001b[0;32m----> 2\u001b[0;31m \u001b[0mX_train\u001b[0m\u001b[0;34m,\u001b[0m \u001b[0mX_val\u001b[0m\u001b[0;34m,\u001b[0m \u001b[0my_train\u001b[0m\u001b[0;34m,\u001b[0m \u001b[0my_val\u001b[0m \u001b[0;34m=\u001b[0m \u001b[0mtrain_test_split\u001b[0m\u001b[0;34m(\u001b[0m\u001b[0mX\u001b[0m\u001b[0;34m,\u001b[0m \u001b[0my\u001b[0m\u001b[0;34m,\u001b[0m\u001b[0mrandom_state\u001b[0m\u001b[0;34m=\u001b[0m\u001b[0;36m42\u001b[0m\u001b[0;34m,\u001b[0m \u001b[0mtest_size\u001b[0m\u001b[0;34m=\u001b[0m\u001b[0;36m0.20\u001b[0m\u001b[0;34m,\u001b[0m \u001b[0mshuffle\u001b[0m\u001b[0;34m=\u001b[0m\u001b[0;32mTrue\u001b[0m\u001b[0;34m,\u001b[0m\u001b[0mstratify\u001b[0m\u001b[0;34m=\u001b[0m\u001b[0my\u001b[0m\u001b[0;34m)\u001b[0m\u001b[0;34m\u001b[0m\u001b[0;34m\u001b[0m\u001b[0m\n\u001b[0m\u001b[1;32m      3\u001b[0m \u001b[0;31m#X_test, y_test = test_df.drop(\"high_t+1\",axis = 1), test_df[\"high_t+1\"]\u001b[0m\u001b[0;34m\u001b[0m\u001b[0;34m\u001b[0m\u001b[0;34m\u001b[0m\u001b[0m\n\u001b[1;32m      4\u001b[0m \u001b[0;34m\u001b[0m\u001b[0m\n\u001b[1;32m      5\u001b[0m \u001b[0;31m#print(f\"X_train Dim: {X_train.shape} \\nX_val Dim: {X_val.shape} \\nX_test Dim: {X_test.shape}\")\u001b[0m\u001b[0;34m\u001b[0m\u001b[0;34m\u001b[0m\u001b[0;34m\u001b[0m\u001b[0m\n",
      "\u001b[0;32m~/opt/anaconda3/envs/Data_visualisation/lib/python3.8/site-packages/sklearn/model_selection/_split.py\u001b[0m in \u001b[0;36mtrain_test_split\u001b[0;34m(test_size, train_size, random_state, shuffle, stratify, *arrays)\u001b[0m\n\u001b[1;32m   2439\u001b[0m         \u001b[0mcv\u001b[0m \u001b[0;34m=\u001b[0m \u001b[0mCVClass\u001b[0m\u001b[0;34m(\u001b[0m\u001b[0mtest_size\u001b[0m\u001b[0;34m=\u001b[0m\u001b[0mn_test\u001b[0m\u001b[0;34m,\u001b[0m \u001b[0mtrain_size\u001b[0m\u001b[0;34m=\u001b[0m\u001b[0mn_train\u001b[0m\u001b[0;34m,\u001b[0m \u001b[0mrandom_state\u001b[0m\u001b[0;34m=\u001b[0m\u001b[0mrandom_state\u001b[0m\u001b[0;34m)\u001b[0m\u001b[0;34m\u001b[0m\u001b[0;34m\u001b[0m\u001b[0m\n\u001b[1;32m   2440\u001b[0m \u001b[0;34m\u001b[0m\u001b[0m\n\u001b[0;32m-> 2441\u001b[0;31m         \u001b[0mtrain\u001b[0m\u001b[0;34m,\u001b[0m \u001b[0mtest\u001b[0m \u001b[0;34m=\u001b[0m \u001b[0mnext\u001b[0m\u001b[0;34m(\u001b[0m\u001b[0mcv\u001b[0m\u001b[0;34m.\u001b[0m\u001b[0msplit\u001b[0m\u001b[0;34m(\u001b[0m\u001b[0mX\u001b[0m\u001b[0;34m=\u001b[0m\u001b[0marrays\u001b[0m\u001b[0;34m[\u001b[0m\u001b[0;36m0\u001b[0m\u001b[0;34m]\u001b[0m\u001b[0;34m,\u001b[0m \u001b[0my\u001b[0m\u001b[0;34m=\u001b[0m\u001b[0mstratify\u001b[0m\u001b[0;34m)\u001b[0m\u001b[0;34m)\u001b[0m\u001b[0;34m\u001b[0m\u001b[0;34m\u001b[0m\u001b[0m\n\u001b[0m\u001b[1;32m   2442\u001b[0m \u001b[0;34m\u001b[0m\u001b[0m\n\u001b[1;32m   2443\u001b[0m     return list(\n",
      "\u001b[0;32m~/opt/anaconda3/envs/Data_visualisation/lib/python3.8/site-packages/sklearn/model_selection/_split.py\u001b[0m in \u001b[0;36msplit\u001b[0;34m(self, X, y, groups)\u001b[0m\n\u001b[1;32m   1598\u001b[0m         \"\"\"\n\u001b[1;32m   1599\u001b[0m         \u001b[0mX\u001b[0m\u001b[0;34m,\u001b[0m \u001b[0my\u001b[0m\u001b[0;34m,\u001b[0m \u001b[0mgroups\u001b[0m \u001b[0;34m=\u001b[0m \u001b[0mindexable\u001b[0m\u001b[0;34m(\u001b[0m\u001b[0mX\u001b[0m\u001b[0;34m,\u001b[0m \u001b[0my\u001b[0m\u001b[0;34m,\u001b[0m \u001b[0mgroups\u001b[0m\u001b[0;34m)\u001b[0m\u001b[0;34m\u001b[0m\u001b[0;34m\u001b[0m\u001b[0m\n\u001b[0;32m-> 1600\u001b[0;31m         \u001b[0;32mfor\u001b[0m \u001b[0mtrain\u001b[0m\u001b[0;34m,\u001b[0m \u001b[0mtest\u001b[0m \u001b[0;32min\u001b[0m \u001b[0mself\u001b[0m\u001b[0;34m.\u001b[0m\u001b[0m_iter_indices\u001b[0m\u001b[0;34m(\u001b[0m\u001b[0mX\u001b[0m\u001b[0;34m,\u001b[0m \u001b[0my\u001b[0m\u001b[0;34m,\u001b[0m \u001b[0mgroups\u001b[0m\u001b[0;34m)\u001b[0m\u001b[0;34m:\u001b[0m\u001b[0;34m\u001b[0m\u001b[0;34m\u001b[0m\u001b[0m\n\u001b[0m\u001b[1;32m   1601\u001b[0m             \u001b[0;32myield\u001b[0m \u001b[0mtrain\u001b[0m\u001b[0;34m,\u001b[0m \u001b[0mtest\u001b[0m\u001b[0;34m\u001b[0m\u001b[0;34m\u001b[0m\u001b[0m\n\u001b[1;32m   1602\u001b[0m \u001b[0;34m\u001b[0m\u001b[0m\n",
      "\u001b[0;32m~/opt/anaconda3/envs/Data_visualisation/lib/python3.8/site-packages/sklearn/model_selection/_split.py\u001b[0m in \u001b[0;36m_iter_indices\u001b[0;34m(self, X, y, groups)\u001b[0m\n\u001b[1;32m   1938\u001b[0m         \u001b[0mclass_counts\u001b[0m \u001b[0;34m=\u001b[0m \u001b[0mnp\u001b[0m\u001b[0;34m.\u001b[0m\u001b[0mbincount\u001b[0m\u001b[0;34m(\u001b[0m\u001b[0my_indices\u001b[0m\u001b[0;34m)\u001b[0m\u001b[0;34m\u001b[0m\u001b[0;34m\u001b[0m\u001b[0m\n\u001b[1;32m   1939\u001b[0m         \u001b[0;32mif\u001b[0m \u001b[0mnp\u001b[0m\u001b[0;34m.\u001b[0m\u001b[0mmin\u001b[0m\u001b[0;34m(\u001b[0m\u001b[0mclass_counts\u001b[0m\u001b[0;34m)\u001b[0m \u001b[0;34m<\u001b[0m \u001b[0;36m2\u001b[0m\u001b[0;34m:\u001b[0m\u001b[0;34m\u001b[0m\u001b[0;34m\u001b[0m\u001b[0m\n\u001b[0;32m-> 1940\u001b[0;31m             raise ValueError(\n\u001b[0m\u001b[1;32m   1941\u001b[0m                 \u001b[0;34m\"The least populated class in y has only 1\"\u001b[0m\u001b[0;34m\u001b[0m\u001b[0;34m\u001b[0m\u001b[0m\n\u001b[1;32m   1942\u001b[0m                 \u001b[0;34m\" member, which is too few. The minimum\"\u001b[0m\u001b[0;34m\u001b[0m\u001b[0;34m\u001b[0m\u001b[0m\n",
      "\u001b[0;31mValueError\u001b[0m: The least populated class in y has only 1 member, which is too few. The minimum number of groups for any class cannot be less than 2."
     ]
    }
   ],
   "source": [
    "X,y = df_copy.drop(\"high_t+1\", axis = 1), df_copy[\"high_t+1\"]\n",
    "X_train, X_val, y_train, y_val = train_test_split(X, y,random_state=42, test_size=0.20, shuffle=True,stratify=y)\n",
    "#X_test, y_test = test_df.drop(\"high_t+1\",axis = 1), test_df[\"high_t+1\"]\n",
    "\n",
    "#print(f\"X_train Dim: {X_train.shape} \\nX_val Dim: {X_val.shape} \\nX_test Dim: {X_test.shape}\")"
   ]
  },
  {
   "cell_type": "markdown",
   "id": "1f79d3c0-df15-4c32-a772-5b674ee47ea0",
   "metadata": {
    "tags": []
   },
   "source": [
    "### Test 1 Logistic Regression\n"
   ]
  },
  {
   "cell_type": "code",
   "execution_count": null,
   "id": "0013cef4-e235-4637-81ca-c458b0902bcf",
   "metadata": {},
   "outputs": [],
   "source": [
    "#Scaling data\n",
    "X_train_scaled = functions.scaler_function(X_train)\n",
    "X_val_scaled = functions.scaler_function(X_val)\n",
    "X_test_scaled = functions.scaler_function(X_test)"
   ]
  },
  {
   "cell_type": "code",
   "execution_count": null,
   "id": "3f04312c-079b-4497-bb5b-82c205cfd11f",
   "metadata": {},
   "outputs": [],
   "source": [
    "#Logistic Regression\n",
    "logreg = LogisticRegression(max_iter=500).fit(X_train_scaled, y_train)\n",
    "scores = cross_val_score(logreg, X_train_scaled, y_train, cv=5)\n",
    "logreg_pred = logreg.predict(X_val_scaled)\n",
    "\n",
    "#Logistic metrics on train and val data\n",
    "print(\"Average cross validation score: {:.3f}\".format(scores.mean()))\n",
    "print(\"Validation accuracy: {:.3f}\".format(logreg.score(X_val_scaled, y_val)))\n",
    "print(\"F1 score: {:.3f}\".format(f1_score(y_val, logreg_pred)))\n",
    "print(confusion_matrix(y_val, logreg_pred))\n",
    "logreg_precision_score = precision_score(y_val,logreg_pred)\n",
    "logreg_recall_score = recall_score(y_val, logreg_pred)\n",
    "print(f\"Precision Score: {round(logreg_precision_score,2)}\\nRecall Score: {round(logreg_recall_score,2)}\")"
   ]
  }
 ],
 "metadata": {
  "kernelspec": {
   "display_name": "Python 3 (ipykernel)",
   "language": "python",
   "name": "python3"
  },
  "language_info": {
   "codemirror_mode": {
    "name": "ipython",
    "version": 3
   },
   "file_extension": ".py",
   "mimetype": "text/x-python",
   "name": "python",
   "nbconvert_exporter": "python",
   "pygments_lexer": "ipython3",
   "version": "3.8.12"
  }
 },
 "nbformat": 4,
 "nbformat_minor": 5
}
